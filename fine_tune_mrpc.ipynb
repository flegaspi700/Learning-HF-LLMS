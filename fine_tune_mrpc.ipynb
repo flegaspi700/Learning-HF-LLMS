{
 "cells": [
  {
   "cell_type": "markdown",
   "id": "7a910810",
   "metadata": {},
   "source": [
    "# Fine-Tuning BERT for Paraphrase Detection (MRPC)\n",
    "\n",
    "Complete pipeline for fine-tuning BERT on the Microsoft Research Paraphrase Corpus dataset. This notebook demonstrates a **manual training loop** approach, providing deeper understanding of PyTorch mechanics.\n",
    "\n",
    "## Workflow Overview\n",
    "- **Import Libraries** - Essential Hugging Face and PyTorch components for manual training\n",
    "- **Load MRPC Dataset** - Using `load_dataset(\"glue\", \"mrpc\")`\n",
    "- **Explore Data** - Examine sentence pairs and paraphrase labels\n",
    "- **Tokenization** - Process sentence pairs (more complex than single sentences)\n",
    "- **Data Preparation** - Set up padding and batching for sentence pairs\n",
    "- **Model Setup** - Configure BERT for sequence pair classification\n",
    "- **Manual Training Loop** - Low-level PyTorch training with custom optimization\n",
    "- **Evaluation** - Test paraphrase detection accuracy\n",
    "\n",
    "## Key Learning Focus\n",
    "This notebook uses a **manual training loop** instead of the Trainer API, providing insights into:\n",
    "- DataLoader creation and batch processing\n",
    "- Gradient computation and optimization steps\n",
    "- Device management and tensor operations\n",
    "- Training progress tracking with tqdm"
   ]
  },
  {
   "cell_type": "code",
   "execution_count": null,
   "id": "2afa82ac",
   "metadata": {},
   "outputs": [],
   "source": [
    "# Import libraries for manual training loop implementation\n",
    "from datasets import load_dataset  # Standardized datasets\n",
    "from transformers import AutoTokenizer, AutoModelForSequenceClassification, TrainingArguments, Trainer  # Hugging Face transformers\n",
    "import numpy as np  # Array operations\n",
    "import evaluate  # Metrics computation\n",
    "import torch  # Core PyTorch\n",
    "from torch.utils.data import DataLoader  # Batch loading\n",
    "from transformers import DataCollatorWithPadding, get_scheduler  # Dynamic padding and scheduling\n",
    "from torch.optim import AdamW  # Optimizer (moved from transformers to torch)\n",
    "from tqdm.auto import tqdm  # Progress tracking"
   ]
  },
  {
   "cell_type": "markdown",
   "id": "0935c848",
   "metadata": {},
   "source": [
    "# Step 1: Import Libraries\n",
    "\n",
    "Core PyTorch and Hugging Face components for manual training loop implementation."
   ]
  },
  {
   "cell_type": "code",
   "execution_count": null,
   "id": "b43610c0",
   "metadata": {},
   "outputs": [],
   "source": [
    "# Load MRPC dataset - Microsoft Research Paraphrase Corpus\n",
    "# Contains sentence pairs labeled for paraphrase detection\n",
    "raw_datasets = load_dataset(\"glue\", \"mrpc\")\n",
    "#raw_datasets = load_dataset(\"glue\", \"sst2\")  # Alternative: single sentence dataset\n",
    "\n",
    "# Load BERT tokenizer using Hugging Face model hub identifier\n",
    "checkpoint = \"bert-base-uncased\"\n",
    "tokenizer = AutoTokenizer.from_pretrained(checkpoint)\n",
    "\n",
    "# Tokenization function for sentence pairs\n",
    "def tokenize_function(examples):\n",
    "    # Key difference from SST-2: processing TWO sentences instead of one\n",
    "    return tokenizer(examples[\"sentence1\"], examples[\"sentence2\"], truncation=True)\n",
    "    #return tokenizer(examples[\"sentence\"], truncation=True)  # SST-2 approach\n",
    "\n",
    "# Apply tokenization to all dataset splits using batched processing\n",
    "tokenized_datasets = raw_datasets.map(tokenize_function, batched=True)\n",
    "\n",
    "# Create data collator for dynamic padding (same as SST-2)\n",
    "data_collator = DataCollatorWithPadding(tokenizer=tokenizer)"
   ]
  },
  {
   "cell_type": "markdown",
   "id": "9283bd21",
   "metadata": {},
   "source": [
    "# Step 2: Load and Tokenize MRPC Dataset\n",
    "\n",
    "The Microsoft Research Paraphrase Corpus contains sentence pairs labeled for paraphrase detection."
   ]
  },
  {
   "cell_type": "code",
   "execution_count": null,
   "id": "fb545630",
   "metadata": {},
   "outputs": [
    {
     "data": {
      "text/plain": [
       "['labels', 'input_ids', 'token_type_ids', 'attention_mask']"
      ]
     },
     "execution_count": 3,
     "metadata": {},
     "output_type": "execute_result"
    }
   ],
   "source": [
    "# Remove text columns that can't be converted to tensors\n",
    "tokenized_datasets = tokenized_datasets.remove_columns([\"sentence1\", \"sentence2\", \"idx\"])\n",
    "#tokenized_datasets = tokenized_datasets.remove_columns([\"sentence\", \"idx\"])  # SST-2 approach\n",
    "\n",
    "# Rename 'label' to 'labels' (PyTorch convention for loss computation)\n",
    "tokenized_datasets = tokenized_datasets.rename_column(\"label\", \"labels\")\n",
    "\n",
    "# Set format to PyTorch tensors for training\n",
    "tokenized_datasets.set_format(\"torch\")\n",
    "\n",
    "# Check the final column structure\n",
    "tokenized_datasets[\"train\"].column_names"
   ]
  },
  {
   "cell_type": "markdown",
   "id": "71c30c22",
   "metadata": {},
   "source": [
    "# Step 3: Prepare Data for Training\n",
    "\n",
    "Clean up the dataset and set the proper format for PyTorch tensors."
   ]
  },
  {
   "cell_type": "code",
   "execution_count": null,
   "id": "3c857e7f",
   "metadata": {},
   "outputs": [
    {
     "data": {
      "text/plain": [
       "{'labels': torch.Size([8]),\n",
       " 'input_ids': torch.Size([8, 81]),\n",
       " 'token_type_ids': torch.Size([8, 81]),\n",
       " 'attention_mask': torch.Size([8, 81])}"
      ]
     },
     "execution_count": 4,
     "metadata": {},
     "output_type": "execute_result"
    }
   ],
   "source": [
    "# Create DataLoaders for manual training loop\n",
    "# Training dataloader: shuffle=True for randomized training\n",
    "train_dataloader = DataLoader(\n",
    "    tokenized_datasets[\"train\"], shuffle=True, batch_size=8, collate_fn=data_collator\n",
    "    )\n",
    "# Evaluation dataloader: shuffle=False for consistent evaluation\n",
    "eval_dataloader = DataLoader(\n",
    "    tokenized_datasets[\"validation\"], batch_size=8, collate_fn=data_collator\n",
    ")\n",
    "\n",
    "# Test batch creation and examine structure\n",
    "for batch in train_dataloader:\n",
    "    break\n",
    "# Show batch structure (keys and tensor shapes)\n",
    "{key: value.shape for key, value in batch.items()}"
   ]
  },
  {
   "cell_type": "markdown",
   "id": "6befdbaa",
   "metadata": {},
   "source": [
    "# Step 4: Create DataLoaders\n",
    "\n",
    "Manual DataLoader creation for custom training loop implementation."
   ]
  },
  {
   "cell_type": "code",
   "execution_count": null,
   "id": "11bacd5f",
   "metadata": {},
   "outputs": [
    {
     "name": "stderr",
     "output_type": "stream",
     "text": [
      "Some weights of BertForSequenceClassification were not initialized from the model checkpoint at bert-base-uncased and are newly initialized: ['classifier.bias', 'classifier.weight']\n",
      "You should probably TRAIN this model on a down-stream task to be able to use it for predictions and inference.\n"
     ]
    },
    {
     "name": "stdout",
     "output_type": "stream",
     "text": [
      "tensor(0.7364, grad_fn=<NllLossBackward0>) torch.Size([8, 2])\n"
     ]
    }
   ],
   "source": [
    "# Load BERT model with classification head for paraphrase detection\n",
    "model = AutoModelForSequenceClassification.from_pretrained(checkpoint, num_labels=2)\n",
    "\n",
    "# Test forward pass with sample batch\n",
    "outputs = model(**batch) \n",
    "# Print loss and logits shape for verification\n",
    "print(outputs.loss, outputs.logits.shape)  # Loss: scalar, Logits: [batch_size, num_classes]"
   ]
  },
  {
   "cell_type": "markdown",
   "id": "3afd2475",
   "metadata": {},
   "source": [
    "# Step 5: Load BERT Model and Test Forward Pass\n",
    "\n",
    "Configure BERT for binary sequence pair classification and test with sample batch."
   ]
  },
  {
   "cell_type": "code",
   "execution_count": null,
   "id": "8d49128e",
   "metadata": {},
   "outputs": [
    {
     "name": "stdout",
     "output_type": "stream",
     "text": [
      "1377\n"
     ]
    }
   ],
   "source": [
    "# Set up optimizer - AdamW is standard for BERT fine-tuning\n",
    "optimizer = AdamW(model.parameters(), lr=5e-5)  # Higher learning rate than SST-2\n",
    "\n",
    "# Training configuration\n",
    "num_epochs = 3\n",
    "num_training_steps = num_epochs * len(train_dataloader)\n",
    "\n",
    "# Learning rate scheduler - linear decay from peak to 0\n",
    "lr_scheduler = get_scheduler(\n",
    "    \"linear\",\n",
    "    optimizer=optimizer,\n",
    "    num_warmup_steps=0,  # No warmup steps (simpler setup)\n",
    "    num_training_steps=num_training_steps,\n",
    ")   \n",
    "\n",
    "# Print total training steps for reference\n",
    "print(num_training_steps)"
   ]
  },
  {
   "cell_type": "markdown",
   "id": "dc759ffd",
   "metadata": {},
   "source": [
    "# Step 6: Configure Training Parameters\n",
    "\n",
    "Set up optimizer, learning rate scheduler, and training hyperparameters for manual training loop."
   ]
  },
  {
   "cell_type": "code",
   "execution_count": null,
   "id": "c63043d2",
   "metadata": {},
   "outputs": [
    {
     "data": {
      "text/plain": [
       "device(type='cuda')"
      ]
     },
     "execution_count": 7,
     "metadata": {},
     "output_type": "execute_result"
    }
   ],
   "source": [
    "# Device configuration - manual approach (vs automatic device_map=\"auto\")\n",
    "device = torch.device(\"cuda\") if torch.cuda.is_available() else torch.device(\"cpu\")\n",
    "# Move model to device\n",
    "model.to(device)\n",
    "device  # Display which device is being used"
   ]
  },
  {
   "cell_type": "markdown",
   "id": "18edafdc",
   "metadata": {},
   "source": [
    "# Step 7: Device Configuration\n",
    "\n",
    "Set up GPU/CPU device for training - manual approach vs automatic device_map=\"auto\"."
   ]
  },
  {
   "cell_type": "code",
   "execution_count": null,
   "id": "5a576ebc",
   "metadata": {},
   "outputs": [
    {
     "data": {
      "application/vnd.jupyter.widget-view+json": {
       "model_id": "3ae5df429d5e42fcac0ab3ecc290f151",
       "version_major": 2,
       "version_minor": 0
      },
      "text/plain": [
       "  0%|          | 0/1377 [00:00<?, ?it/s]"
      ]
     },
     "metadata": {},
     "output_type": "display_data"
    }
   ],
   "source": [
    "# Initialize progress tracking\n",
    "progress_bar = tqdm(range(num_training_steps))\n",
    "\n",
    "# Set model to training mode\n",
    "model.train()\n",
    "\n",
    "# Manual training loop - each step done explicitly\n",
    "for epoch in range(num_epochs):\n",
    "    for batch in train_dataloader:\n",
    "        # Move batch to device (manual device management)\n",
    "        batch = {k: v.to(device) for k, v in batch.items()}\n",
    "        \n",
    "        # Forward pass - compute predictions and loss\n",
    "        outputs = model(**batch)\n",
    "        loss = outputs.loss\n",
    "        \n",
    "        # Backward pass - compute gradients\n",
    "        loss.backward()\n",
    "        \n",
    "        # Optimization step\n",
    "        optimizer.step()      # Update model parameters\n",
    "        lr_scheduler.step()   # Update learning rate\n",
    "        optimizer.zero_grad() # Reset gradients for next iteration\n",
    "        \n",
    "        # Update progress\n",
    "        progress_bar.update(1)"
   ]
  },
  {
   "cell_type": "markdown",
   "id": "7f371522",
   "metadata": {},
   "source": [
    "# Step 8: Manual Training Loop\n",
    "\n",
    "Implement the training loop manually using PyTorch primitives instead of Trainer API."
   ]
  },
  {
   "cell_type": "code",
   "execution_count": null,
   "id": "ad40ca16",
   "metadata": {},
   "outputs": [
    {
     "name": "stdout",
     "output_type": "stream",
     "text": [
      "{'accuracy': 0.8455882352941176}\n"
     ]
    }
   ],
   "source": [
    "# Load evaluation metric for MRPC task (commented out - should use \"mrpc\")\n",
    "#metric = evaluate.load(\"glue\", \"mrpc\")  # Correct metric for paraphrase detection\n",
    "metric = evaluate.load(\"glue\", \"sst2\")   # Currently using SST-2 metric (note the mismatch)\n",
    "\n",
    "# Set model to evaluation mode (disables dropout, batch norm updates)\n",
    "model.eval()\n",
    "\n",
    "# Manual evaluation loop\n",
    "for batch in eval_dataloader:\n",
    "    # Move batch to device\n",
    "    batch = {k: v.to(device) for k, v in batch.items()}\n",
    "    \n",
    "    # Forward pass without gradient computation (saves memory)\n",
    "    with torch.no_grad():\n",
    "        outputs = model(**batch)\n",
    "    \n",
    "    # Convert logits to predictions using argmax\n",
    "    logits = outputs.logits\n",
    "    predictions = logits.argmax(dim=-1)  # Get predicted class (0 or 1)\n",
    "    \n",
    "    # Add batch to metric for final computation\n",
    "    metric.add_batch(predictions=predictions, references=batch[\"labels\"])\n",
    "\n",
    "# Compute and display final results\n",
    "print(metric.compute())"
   ]
  },
  {
   "cell_type": "markdown",
   "id": "cf669f32",
   "metadata": {},
   "source": [
    "# Step 9: Evaluate the Model\n",
    "\n",
    "Test the fine-tuned model on the validation set using manual evaluation loop."
   ]
  },
  {
   "cell_type": "markdown",
   "id": "6b7c8fb1",
   "metadata": {},
   "source": [
    "# Summary: MRPC vs SST-2 Approaches\n",
    "\n",
    "## Key Differences\n",
    "\n",
    "| Aspect | MRPC (This Notebook) | SST-2 (Reference Notebook) |\n",
    "|--------|----------------------|-----------------------------|\n",
    "| **Task** | Paraphrase detection | Sentiment analysis |\n",
    "| **Input** | Sentence pairs | Single sentences |\n",
    "| **Tokenization** | `tokenizer(sent1, sent2)` | `tokenizer(sentence)` |\n",
    "| **Training Approach** | Manual PyTorch loop | Trainer API |\n",
    "| **Device Management** | Manual `.to(device)` | `device_map=\"auto\"` |\n",
    "| **Progress Tracking** | tqdm progress bar | Built-in logging |\n",
    "| **Mixed Precision** | Not implemented | `bf16=True` |\n",
    "\n",
    "## Learning Benefits\n",
    "\n",
    "### Manual Training Loop (This Notebook)\n",
    "- **Understand low-level mechanics**: Forward/backward passes, optimization steps\n",
    "- **Full control**: Custom training logic, debugging capabilities\n",
    "- **Educational value**: Learn PyTorch fundamentals\n",
    "\n",
    "### Trainer API (SST-2 Notebook) \n",
    "- **Production ready**: Built-in best practices, automatic optimizations\n",
    "- **Simplified workflow**: Focus on configuration over implementation\n",
    "- **Advanced features**: Mixed precision, checkpointing, distributed training\n",
    "\n",
    "Both approaches teach different aspects of transformer fine-tuning!"
   ]
  }
 ],
 "metadata": {
  "kernelspec": {
   "display_name": ".venv",
   "language": "python",
   "name": "python3"
  },
  "language_info": {
   "codemirror_mode": {
    "name": "ipython",
    "version": 3
   },
   "file_extension": ".py",
   "mimetype": "text/x-python",
   "name": "python",
   "nbconvert_exporter": "python",
   "pygments_lexer": "ipython3",
   "version": "3.13.6"
  }
 },
 "nbformat": 4,
 "nbformat_minor": 5
}
